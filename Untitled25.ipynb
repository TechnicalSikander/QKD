{
  "cells": [
    {
      "cell_type": "markdown",
      "metadata": {
        "id": "ymDssBKzlkZ0"
      },
      "source": [
        "import the lib"
      ]
    },
    {
      "cell_type": "code",
      "execution_count": 5,
      "metadata": {
        "id": "-1GN1Va_lhFU"
      },
      "outputs": [],
      "source": [
        "import random\n",
        "import numpy as np"
      ]
    },
    {
      "cell_type": "markdown",
      "metadata": {
        "id": "xFouZ4iBlt9_"
      },
      "source": [
        "Generating Random Bits"
      ]
    },
    {
      "cell_type": "code",
      "execution_count": 6,
      "metadata": {
        "colab": {
          "base_uri": "https://localhost:8080/"
        },
        "id": "DdVShurcluzc",
        "outputId": "a15a3d57-6116-411f-bd1b-cb31b60b69c3"
      },
      "outputs": [
        {
          "output_type": "stream",
          "name": "stdout",
          "text": [
            "[1, 0, 0, 0, 0, 1, 0, 1, 1, 0]\n"
          ]
        }
      ],
      "source": [
        "def generate_random_bits(length):\n",
        "    return [random.randint(0, 1) for _ in range(length)]\n",
        "\n",
        "print(generate_random_bits(10))\n"
      ]
    },
    {
      "cell_type": "markdown",
      "metadata": {
        "id": "b3mUyBQCmDS2"
      },
      "source": [
        "Encoding Q bits"
      ]
    },
    {
      "cell_type": "code",
      "execution_count": 11,
      "metadata": {
        "id": "FTSnlJUDl-8u"
      },
      "outputs": [],
      "source": [
        "def encode_qubits(bits, bases):\n",
        "    qubits = []\n",
        "    for bit, base in zip(bits, bases):\n",
        "        if base == 0:  # Standard basis (|0⟩, |1⟩)\n",
        "            qubits.append(bit)\n",
        "        else:  # Hadamard basis (|+⟩, |-⟩)\n",
        "            qubits.append(2 + bit)  # 2 for |+⟩, 3 for |-⟩\n",
        "    return qubits\n",
        "\n",
        "\n"
      ]
    },
    {
      "cell_type": "markdown",
      "metadata": {
        "id": "ibn1CiDKm9sU"
      },
      "source": [
        "Measuring Q bits"
      ]
    },
    {
      "cell_type": "code",
      "execution_count": 12,
      "metadata": {
        "id": "7wu7-2Asm8DI"
      },
      "outputs": [],
      "source": [
        "def measure_qubits(qubits, bases):\n",
        "    measurements = []\n",
        "    for qubit, base in zip(qubits, bases):\n",
        "        if base == 0:  # Measure in standard basis\n",
        "            if qubit in (0, 1):\n",
        "                measurements.append(qubit)\n",
        "            else:  # Hadamard state measured in standard basis\n",
        "                measurements.append(random.randint(0, 1))\n",
        "        else:  # Measure in Hadamard basis\n",
        "            if qubit in (2, 3):\n",
        "                measurements.append(qubit - 2)\n",
        "            else:  # Standard state measured in Hadamard basis\n",
        "                measurements.append(random.randint(0, 1))\n",
        "    return measurements"
      ]
    },
    {
      "cell_type": "markdown",
      "metadata": {
        "id": "-Ul4BGfinE87"
      },
      "source": [
        "matching Bases and Shifting"
      ]
    },
    {
      "cell_type": "code",
      "execution_count": 13,
      "metadata": {
        "id": "yqidohswnHcG"
      },
      "outputs": [],
      "source": [
        "def sift_key(alice_bases, bob_bases, bits):\n",
        "    sifted_key = []\n",
        "    for a_base, b_base, bit in zip(alice_bases, bob_bases, bits):\n",
        "        if a_base == b_base:\n",
        "            sifted_key.append(bit)\n",
        "    return sifted_key"
      ]
    },
    {
      "cell_type": "markdown",
      "metadata": {
        "id": "0lXOLR9WnLAZ"
      },
      "source": [
        "Estimate Error Rate"
      ]
    },
    {
      "cell_type": "code",
      "execution_count": 14,
      "metadata": {
        "id": "hTkgds-znKqf"
      },
      "outputs": [],
      "source": [
        "def estimate_error_rate(alice_key, bob_key, sample_size):\n",
        "    sample_indices = random.sample(range(len(alice_key)), min(sample_size, len(alice_key)))\n",
        "    errors = 0\n",
        "    for i in sample_indices:\n",
        "        if alice_key[i] != bob_key[i]:\n",
        "            errors += 1\n",
        "    return errors / len(sample_indices) if sample_indices else 0"
      ]
    },
    {
      "cell_type": "markdown",
      "metadata": {
        "id": "UIcIoiLCnQ0n"
      },
      "source": [
        "Main Simulation"
      ]
    },
    {
      "cell_type": "code",
      "execution_count": 15,
      "metadata": {
        "id": "YXWunE1anSif"
      },
      "outputs": [],
      "source": [
        "def bb84_simulation(key_length=100, sample_size=10):\n",
        "    print(\"\\n=== Step 1: Alice generates random bits and bases ===\")\n",
        "    alice_bits = generate_random_bits(key_length)\n",
        "    alice_bases = generate_random_bits(key_length)\n",
        "    print(f\"Alice's bits (first 10): {alice_bits[:10]}\")\n",
        "    print(f\"Alice's bases (first 10): {alice_bases[:10]}\")\n",
        "    print(f\"0 = Standard basis (|0⟩, |1⟩), 1 = Hadamard basis (|+⟩, |-⟩)\")\n",
        "\n",
        "    print(\"\\n=== Step 2: Alice encodes her bits into qubits ===\")\n",
        "    qubits = encode_qubits(alice_bits, alice_bases)\n",
        "    print(f\"Encoded qubits (first 10): {qubits[:10]}\")\n",
        "    print(\"Encoding scheme:\")\n",
        "    print(\"0 = |0⟩, 1 = |1⟩, 2 = |+⟩, 3 = |-⟩\")\n",
        "\n",
        "    print(\"\\n=== Step 3: Bob generates random bases for measurement ===\")\n",
        "    bob_bases = generate_random_bits(key_length)\n",
        "    print(f\"Bob's bases (first 10): {bob_bases[:10]}\")\n",
        "\n",
        "    print(\"\\n=== Step 4: Bob measures the qubits ===\")\n",
        "    bob_bits = measure_qubits(qubits, bob_bases)\n",
        "    print(f\"Bob's measured bits (first 10): {bob_bits[:10]}\")\n",
        "\n",
        "    print(\"\\n=== Step 5: Alice and Bob sift their keys (keep only matching bases) ===\")\n",
        "    alice_key = sift_key(alice_bases, bob_bases, alice_bits)\n",
        "    bob_key = sift_key(alice_bases, bob_bases, bob_bits)\n",
        "    print(f\"Alice's sifted key (first 10): {alice_key[:10]}\")\n",
        "    print(f\"Bob's sifted key (first 10): {bob_key[:10]}\")\n",
        "    print(f\"Original key length: {key_length}\")\n",
        "    print(f\"Sifted key length: {len(alice_key)}\")\n",
        "\n",
        "    print(\"\\n=== Step 6: Estimate error rate ===\")\n",
        "    error_rate = estimate_error_rate(alice_key, bob_key, sample_size)\n",
        "    print(f\"Compared {sample_size} random bits from the sifted keys\")\n",
        "    print(f\"Error rate: {error_rate:.2%}\")\n",
        "\n",
        "    return alice_key, bob_key, error_rate"
      ]
    },
    {
      "cell_type": "code",
      "execution_count": 16,
      "metadata": {
        "colab": {
          "base_uri": "https://localhost:8080/"
        },
        "id": "QZ4UM1ibnvfC",
        "outputId": "bccb9b89-2608-4daf-a3c4-6b192352096b"
      },
      "outputs": [
        {
          "output_type": "stream",
          "name": "stdout",
          "text": [
            "\n",
            "=== Step 1: Alice generates random bits and bases ===\n",
            "Alice's bits (first 10): [1, 0, 0, 1, 0, 1, 1, 1, 1, 1]\n",
            "Alice's bases (first 10): [1, 1, 0, 0, 1, 1, 1, 1, 1, 0]\n",
            "0 = Standard basis (|0⟩, |1⟩), 1 = Hadamard basis (|+⟩, |-⟩)\n",
            "\n",
            "=== Step 2: Alice encodes her bits into qubits ===\n",
            "Encoded qubits (first 10): [3, 2, 0, 1, 2, 3, 3, 3, 3, 1]\n",
            "Encoding scheme:\n",
            "0 = |0⟩, 1 = |1⟩, 2 = |+⟩, 3 = |-⟩\n",
            "\n",
            "=== Step 3: Bob generates random bases for measurement ===\n",
            "Bob's bases (first 10): [1, 1, 0, 0, 0, 0, 1, 1, 1, 0]\n",
            "\n",
            "=== Step 4: Bob measures the qubits ===\n",
            "Bob's measured bits (first 10): [1, 0, 0, 1, 0, 0, 1, 1, 1, 1]\n",
            "\n",
            "=== Step 5: Alice and Bob sift their keys (keep only matching bases) ===\n",
            "Alice's sifted key (first 10): [1, 0, 0, 1, 1, 1, 1, 1, 1, 1]\n",
            "Bob's sifted key (first 10): [1, 0, 0, 1, 1, 1, 1, 1, 1, 1]\n",
            "Original key length: 100\n",
            "Sifted key length: 49\n",
            "\n",
            "=== Step 6: Estimate error rate ===\n",
            "Compared 10 random bits from the sifted keys\n",
            "Error rate: 0.00%\n"
          ]
        },
        {
          "output_type": "execute_result",
          "data": {
            "text/plain": [
              "([1,\n",
              "  0,\n",
              "  0,\n",
              "  1,\n",
              "  1,\n",
              "  1,\n",
              "  1,\n",
              "  1,\n",
              "  1,\n",
              "  1,\n",
              "  1,\n",
              "  1,\n",
              "  1,\n",
              "  0,\n",
              "  0,\n",
              "  1,\n",
              "  1,\n",
              "  1,\n",
              "  1,\n",
              "  1,\n",
              "  0,\n",
              "  1,\n",
              "  0,\n",
              "  1,\n",
              "  1,\n",
              "  1,\n",
              "  0,\n",
              "  0,\n",
              "  0,\n",
              "  0,\n",
              "  1,\n",
              "  1,\n",
              "  0,\n",
              "  1,\n",
              "  1,\n",
              "  1,\n",
              "  1,\n",
              "  0,\n",
              "  0,\n",
              "  1,\n",
              "  1,\n",
              "  1,\n",
              "  0,\n",
              "  1,\n",
              "  0,\n",
              "  1,\n",
              "  1,\n",
              "  1,\n",
              "  0],\n",
              " [1,\n",
              "  0,\n",
              "  0,\n",
              "  1,\n",
              "  1,\n",
              "  1,\n",
              "  1,\n",
              "  1,\n",
              "  1,\n",
              "  1,\n",
              "  1,\n",
              "  1,\n",
              "  1,\n",
              "  0,\n",
              "  0,\n",
              "  1,\n",
              "  1,\n",
              "  1,\n",
              "  1,\n",
              "  1,\n",
              "  0,\n",
              "  1,\n",
              "  0,\n",
              "  1,\n",
              "  1,\n",
              "  1,\n",
              "  0,\n",
              "  0,\n",
              "  0,\n",
              "  0,\n",
              "  1,\n",
              "  1,\n",
              "  0,\n",
              "  1,\n",
              "  1,\n",
              "  1,\n",
              "  1,\n",
              "  0,\n",
              "  0,\n",
              "  1,\n",
              "  1,\n",
              "  1,\n",
              "  0,\n",
              "  1,\n",
              "  0,\n",
              "  1,\n",
              "  1,\n",
              "  1,\n",
              "  0],\n",
              " 0.0)"
            ]
          },
          "metadata": {},
          "execution_count": 16
        }
      ],
      "source": [
        "bb84_simulation(100,10)"
      ]
    },
    {
      "cell_type": "markdown",
      "metadata": {
        "id": "yjQqU0tVpcD0"
      },
      "source": [
        "With Nosie"
      ]
    },
    {
      "cell_type": "code",
      "execution_count": null,
      "metadata": {
        "id": "tGERqARdpMzt"
      },
      "outputs": [],
      "source": [
        "def add_quantum_noise(qubits, error_prob=0.1):\n",
        "    \"\"\"Introduce noise by randomly flipping qubit states with some probability\"\"\"\n",
        "    noisy_qubits = []\n",
        "    for qubit in qubits:\n",
        "        if random.random() < error_prob:\n",
        "            # Flip between standard and Hadamard basis\n",
        "            if qubit in (0, 1):  # If standard basis\n",
        "                noisy_qubits.append(random.choice([2, 3]))  # Randomly switch to Hadamard\n",
        "            else:  # If Hadamard basis\n",
        "                noisy_qubits.append(random.choice([0, 1]))  # Randomly switch to standard\n",
        "        else:\n",
        "            noisy_qubits.append(qubit)\n",
        "    return noisy_qubits\n",
        "\n",
        "def bb84_simulation_with_noise(key_length=100, sample_size=10, noise_level=0.1):\n",
        "    print(f\"\\n=== BB84 Simulation with {noise_level:.0%} noise ===\")\n",
        "\n",
        "    # Alice's preparation\n",
        "    alice_bits = generate_random_bits(key_length)\n",
        "    alice_bases = generate_random_bits(key_length)\n",
        "    qubits = encode_qubits(alice_bits, alice_bases)\n",
        "\n",
        "    # Channel noise\n",
        "    noisy_qubits = add_quantum_noise(qubits, error_prob=noise_level)\n",
        "\n",
        "    # Bob's measurement\n",
        "    bob_bases = generate_random_bits(key_length)\n",
        "    bob_bits = measure_qubits(noisy_qubits, bob_bases)\n",
        "\n",
        "    # Key sifting\n",
        "    alice_key = sift_key(alice_bases, bob_bases, alice_bits)\n",
        "    bob_key = sift_key(alice_bases, bob_bases, bob_bits)\n",
        "\n",
        "    # Error estimation\n",
        "    error_rate = estimate_error_rate(alice_key, bob_key, sample_size)\n",
        "\n",
        "    # Print results\n",
        "    print(f\"Original key length: {key_length}\")\n",
        "    print(f\"Sifted key length: {len(alice_key)}\")\n",
        "    print(f\"Estimated error rate: {error_rate:.2%}\")\n",
        "    print(f\"Expected error rate from noise: {noise_level/2:.2%} (theoretical)\")\n",
        "\n",
        "    return alice_key, bob_key, error_rate"
      ]
    },
    {
      "cell_type": "code",
      "execution_count": null,
      "metadata": {
        "colab": {
          "base_uri": "https://localhost:8080/"
        },
        "id": "ONJ59ITZphP1",
        "outputId": "b5f68eae-0729-41b2-bb3a-2bd68ce9aad7"
      },
      "outputs": [
        {
          "name": "stdout",
          "output_type": "stream",
          "text": [
            "\n",
            "=== BB84 Simulation with 70% noise ===\n",
            "Original key length: 100\n",
            "Sifted key length: 51\n",
            "Estimated error rate: 20.00%\n",
            "Expected error rate from noise: 35.00% (theoretical)\n"
          ]
        },
        {
          "data": {
            "text/plain": [
              "([1,\n",
              "  1,\n",
              "  1,\n",
              "  0,\n",
              "  0,\n",
              "  0,\n",
              "  0,\n",
              "  0,\n",
              "  0,\n",
              "  0,\n",
              "  0,\n",
              "  0,\n",
              "  1,\n",
              "  1,\n",
              "  0,\n",
              "  1,\n",
              "  0,\n",
              "  0,\n",
              "  1,\n",
              "  1,\n",
              "  1,\n",
              "  0,\n",
              "  0,\n",
              "  1,\n",
              "  1,\n",
              "  0,\n",
              "  1,\n",
              "  1,\n",
              "  0,\n",
              "  1,\n",
              "  0,\n",
              "  1,\n",
              "  0,\n",
              "  0,\n",
              "  1,\n",
              "  0,\n",
              "  1,\n",
              "  1,\n",
              "  0,\n",
              "  1,\n",
              "  1,\n",
              "  0,\n",
              "  1,\n",
              "  0,\n",
              "  1,\n",
              "  0,\n",
              "  0,\n",
              "  1,\n",
              "  1,\n",
              "  0,\n",
              "  0],\n",
              " [0,\n",
              "  0,\n",
              "  0,\n",
              "  1,\n",
              "  0,\n",
              "  1,\n",
              "  1,\n",
              "  1,\n",
              "  1,\n",
              "  0,\n",
              "  0,\n",
              "  0,\n",
              "  1,\n",
              "  1,\n",
              "  1,\n",
              "  1,\n",
              "  0,\n",
              "  0,\n",
              "  1,\n",
              "  1,\n",
              "  1,\n",
              "  1,\n",
              "  0,\n",
              "  1,\n",
              "  1,\n",
              "  1,\n",
              "  0,\n",
              "  1,\n",
              "  0,\n",
              "  1,\n",
              "  0,\n",
              "  0,\n",
              "  0,\n",
              "  0,\n",
              "  1,\n",
              "  1,\n",
              "  1,\n",
              "  1,\n",
              "  1,\n",
              "  1,\n",
              "  1,\n",
              "  1,\n",
              "  1,\n",
              "  0,\n",
              "  1,\n",
              "  0,\n",
              "  1,\n",
              "  0,\n",
              "  0,\n",
              "  0,\n",
              "  1],\n",
              " 0.2)"
            ]
          },
          "execution_count": 20,
          "metadata": {},
          "output_type": "execute_result"
        }
      ],
      "source": [
        "bb84_simulation_with_noise(100,10,0.7)"
      ]
    },
    {
      "cell_type": "markdown",
      "metadata": {
        "id": "Mpvxfh-6qjUd"
      },
      "source": [
        "with Eve"
      ]
    },
    {
      "cell_type": "code",
      "execution_count": null,
      "metadata": {
        "id": "zblPUKMwqk0P"
      },
      "outputs": [],
      "source": [
        "def eve_intercept(qubits, eve_bases):\n",
        "    \"\"\"Eve measures qubits in her own bases, introducing errors.\"\"\"\n",
        "    eve_bits = measure_qubits(qubits, eve_bases)\n",
        "    # Eve re-encodes her measured bits into new qubits (introducing errors)\n",
        "    return encode_qubits(eve_bits, eve_bases)\n",
        "\n",
        "def bb84_simulation_with_eve(key_length=100, sample_size=10, eve_present=True):\n",
        "    print(\"\\n=== BB84 Simulation (Eve Present)\" if eve_present else \"\\n=== BB84 Simulation (No Eve) ===\")\n",
        "\n",
        "    # Alice's preparation\n",
        "    alice_bits = generate_random_bits(key_length)\n",
        "    alice_bases = generate_random_bits(key_length)\n",
        "    qubits = encode_qubits(alice_bits, alice_bases)\n",
        "\n",
        "    # Eve's interception (if present)\n",
        "    if eve_present:\n",
        "        eve_bases = generate_random_bits(key_length)\n",
        "        qubits = eve_intercept(qubits, eve_bases)\n",
        "        print(f\"Eve intercepted & re-sent qubits (random bases)\")\n",
        "\n",
        "    # Bob's measurement\n",
        "    bob_bases = generate_random_bits(key_length)\n",
        "    bob_bits = measure_qubits(qubits, bob_bases)\n",
        "\n",
        "    # Key sifting\n",
        "    alice_key = sift_key(alice_bases, bob_bases, alice_bits)\n",
        "    bob_key = sift_key(alice_bases, bob_bases, bob_bits)\n",
        "\n",
        "    # Error estimation\n",
        "    error_rate = estimate_error_rate(alice_key, bob_key, sample_size)\n",
        "\n",
        "    # Results\n",
        "    print(f\"Original key length: {key_length}\")\n",
        "    print(f\"Sifted key length: {len(alice_key)}\")\n",
        "    print(f\"Estimated error rate: {error_rate:.2%}\")\n",
        "    print(f\"Expected error rate (with Eve): ~25%\" if eve_present else \"Expected error rate (no Eve): ~0%\")\n",
        "\n",
        "    return alice_key, bob_key, error_rate"
      ]
    },
    {
      "cell_type": "code",
      "execution_count": null,
      "metadata": {
        "colab": {
          "base_uri": "https://localhost:8080/"
        },
        "id": "hZZ2n47WqmbL",
        "outputId": "2b18814b-b698-4bd6-82a4-d11f505a02d1"
      },
      "outputs": [
        {
          "name": "stdout",
          "output_type": "stream",
          "text": [
            "\n",
            "=== BB84 Simulation (Eve Present)\n",
            "Eve intercepted & re-sent qubits (random bases)\n",
            "Original key length: 100\n",
            "Sifted key length: 51\n",
            "Estimated error rate: 30.00%\n",
            "Expected error rate (with Eve): ~25%\n"
          ]
        },
        {
          "data": {
            "text/plain": [
              "([0,\n",
              "  1,\n",
              "  0,\n",
              "  1,\n",
              "  1,\n",
              "  1,\n",
              "  0,\n",
              "  0,\n",
              "  1,\n",
              "  0,\n",
              "  0,\n",
              "  1,\n",
              "  1,\n",
              "  0,\n",
              "  0,\n",
              "  1,\n",
              "  0,\n",
              "  1,\n",
              "  0,\n",
              "  1,\n",
              "  1,\n",
              "  1,\n",
              "  0,\n",
              "  0,\n",
              "  0,\n",
              "  0,\n",
              "  0,\n",
              "  1,\n",
              "  0,\n",
              "  1,\n",
              "  0,\n",
              "  0,\n",
              "  1,\n",
              "  0,\n",
              "  1,\n",
              "  1,\n",
              "  1,\n",
              "  1,\n",
              "  1,\n",
              "  1,\n",
              "  0,\n",
              "  1,\n",
              "  0,\n",
              "  0,\n",
              "  1,\n",
              "  1,\n",
              "  1,\n",
              "  1,\n",
              "  1,\n",
              "  0,\n",
              "  0],\n",
              " [1,\n",
              "  1,\n",
              "  0,\n",
              "  0,\n",
              "  1,\n",
              "  1,\n",
              "  0,\n",
              "  0,\n",
              "  1,\n",
              "  0,\n",
              "  1,\n",
              "  1,\n",
              "  1,\n",
              "  0,\n",
              "  0,\n",
              "  1,\n",
              "  1,\n",
              "  1,\n",
              "  0,\n",
              "  1,\n",
              "  1,\n",
              "  0,\n",
              "  0,\n",
              "  0,\n",
              "  0,\n",
              "  0,\n",
              "  0,\n",
              "  1,\n",
              "  0,\n",
              "  0,\n",
              "  0,\n",
              "  1,\n",
              "  1,\n",
              "  0,\n",
              "  1,\n",
              "  1,\n",
              "  1,\n",
              "  1,\n",
              "  1,\n",
              "  1,\n",
              "  0,\n",
              "  1,\n",
              "  1,\n",
              "  0,\n",
              "  1,\n",
              "  1,\n",
              "  0,\n",
              "  1,\n",
              "  1,\n",
              "  0,\n",
              "  0],\n",
              " 0.3)"
            ]
          },
          "execution_count": 22,
          "metadata": {},
          "output_type": "execute_result"
        }
      ],
      "source": [
        "bb84_simulation_with_eve(100,10,True)"
      ]
    },
    {
      "cell_type": "markdown",
      "metadata": {
        "id": "Ny3T5gMfq9Rk"
      },
      "source": [
        "Error Correction"
      ]
    },
    {
      "cell_type": "code",
      "execution_count": null,
      "metadata": {
        "id": "SbT1QbTTre5b"
      },
      "outputs": [],
      "source": [
        "import numpy as np\n",
        "from scipy.sparse import csr_matrix\n",
        "\n",
        "def generate_ldpc_matrix(n, k):\n",
        "    \"\"\"Generate a simple regular (3,6) LDPC matrix\"\"\"\n",
        "    # This is a toy example - real implementations use more sophisticated constructions\n",
        "    m = n - k\n",
        "    h = np.zeros((m, n))\n",
        "    for i in range(m):\n",
        "        h[i, 2*i:2*i+6] = 1  # Each row has 6 ones\n",
        "    return csr_matrix(h)\n",
        "\n",
        "class LDPC:\n",
        "    def __init__(self, n, k):\n",
        "        self.n = n  # Codeword length\n",
        "        self.k = k  # Message length\n",
        "        self.H = generate_ldpc_matrix(n, k)\n",
        "\n",
        "    def encode(self, message):\n",
        "        \"\"\"Simple encoding (real implementations would use generator matrix)\"\"\"\n",
        "        if len(message) != self.k:\n",
        "            raise ValueError(\"Message length must equal k\")\n",
        "        # In practice, use proper LDPC encoding - this is just for demonstration\n",
        "        return np.concatenate([message, np.random.randint(0, 2, self.n-self.k)])\n",
        "\n",
        "    def decode(self, received, max_iter=10):\n",
        "        \"\"\"Belief propagation decoding (simplified)\"\"\"\n",
        "        # This is a simplified version - real LDPC uses message passing\n",
        "        syndrome = (self.H @ received) % 2\n",
        "        if np.sum(syndrome) == 0:\n",
        "            return received[:self.k]  # No errors detected\n",
        "\n",
        "        # Simple error correction (real implementations use more sophisticated algorithms)\n",
        "        for _ in range(max_iter):\n",
        "            # Find most likely error position\n",
        "            error_pos = np.argmax(self.H.T @ syndrome)\n",
        "            received[error_pos] ^= 1  # Flip the bit\n",
        "            syndrome = (self.H @ received) % 2\n",
        "            if np.sum(syndrome) == 0:\n",
        "                return received[:self.k]\n",
        "        return None  # Decoding failed"
      ]
    },
    {
      "cell_type": "code",
      "execution_count": null,
      "metadata": {
        "id": "w4u_O8uArmjn"
      },
      "outputs": [],
      "source": [
        "import numpy as np\n",
        "from scipy.sparse import csr_matrix\n",
        "\n",
        "def generate_ldpc_matrix(n, k):\n",
        "    \"\"\"Generate a simple regular (3,6) LDPC matrix\"\"\"\n",
        "    m = n - k\n",
        "    h = np.zeros((m, n))\n",
        "    for i in range(m):\n",
        "        cols = np.arange(i*2, i*2+6) % n  # Wrap around if needed\n",
        "        h[i, cols] = 1\n",
        "    return csr_matrix(h)\n",
        "\n",
        "class LDPC:\n",
        "    def __init__(self, n, k):\n",
        "        self.n = n  # Codeword length\n",
        "        self.k = k  # Message length\n",
        "        self.H = generate_ldpc_matrix(n, k)\n",
        "\n",
        "    def encode(self, message):\n",
        "        \"\"\"Simple encoding (for demonstration)\"\"\"\n",
        "        if len(message) != self.k:\n",
        "            raise ValueError(f\"Message length {len(message)} must equal k {self.k}\")\n",
        "        # Add parity bits (in practice, use proper encoding)\n",
        "        return np.concatenate([message, np.random.randint(0, 2, self.n-self.k)])\n",
        "\n",
        "    def decode(self, received, max_iter=10):\n",
        "        \"\"\"Simplified belief propagation decoding\"\"\"\n",
        "        if len(received) != self.n:\n",
        "            raise ValueError(f\"Received length {len(received)} must equal n {self.n}\")\n",
        "\n",
        "        # Convert to column vector for matrix multiplication\n",
        "        received = np.array(received).reshape(-1, 1)\n",
        "        syndrome = (self.H.dot(received)) % 2\n",
        "\n",
        "        if np.sum(syndrome) == 0:\n",
        "            return received[:self.k].flatten()  # No errors detected\n",
        "\n",
        "        # Simple error correction\n",
        "        corrected = received.copy()\n",
        "        for _ in range(max_iter):\n",
        "            # Find most likely error position\n",
        "            error_pos = np.argmax(self.H.T.dot(syndrome))\n",
        "            corrected[error_pos] ^= 1  # Flip the bit\n",
        "            syndrome = (self.H.dot(corrected)) % 2\n",
        "            if np.sum(syndrome) == 0:\n",
        "                return corrected[:self.k].flatten()\n",
        "        return None  # Decoding failed\n",
        "\n",
        "def bb84_with_ldpc(key_length=100, sample_size=10, eve_present=True):\n",
        "    print(\"\\n=== BB84 with LDPC Correction ===\")\n",
        "    print(f\"Eve present: {eve_present}\")\n",
        "\n",
        "    # Initialize LDPC code (rate 1/2)\n",
        "    ldpc = LDPC(n=2*key_length, k=key_length)\n",
        "\n",
        "    # Alice generates raw key\n",
        "    alice_raw_bits = generate_random_bits(key_length)\n",
        "\n",
        "    try:\n",
        "        # Encode with LDPC before sending\n",
        "        encoded_bits = ldpc.encode(alice_raw_bits)\n",
        "    except ValueError as e:\n",
        "        print(f\"Encoding error: {e}\")\n",
        "        return None, None, 1.0\n",
        "\n",
        "    # Standard BB84 protocol\n",
        "    alice_bases = generate_random_bits(len(encoded_bits))\n",
        "    qubits = encode_qubits(encoded_bits, alice_bases)\n",
        "\n",
        "    # Eve's interception\n",
        "    if eve_present:\n",
        "        eve_bases = generate_random_bits(len(qubits))\n",
        "        qubits = eve_intercept(qubits, eve_bases)\n",
        "\n",
        "    # Bob's measurement\n",
        "    bob_bases = generate_random_bits(len(qubits))\n",
        "    bob_bits = measure_qubits(qubits, bob_bases)\n",
        "\n",
        "    # Sift keys\n",
        "    alice_sifted = sift_key(alice_bases, bob_bases, encoded_bits)\n",
        "    bob_sifted = sift_key(alice_bases, bob_bases, bob_bits)\n",
        "\n",
        "    # Make sure we have enough bits\n",
        "    if len(alice_sifted) < ldpc.n or len(bob_sifted) < ldpc.n:\n",
        "        print(f\"Not enough sifted bits ({len(alice_sifted)} < {ldpc.n})\")\n",
        "        return None, None, 1.0\n",
        "\n",
        "    # Take first n bits for LDPC decoding\n",
        "    alice_for_ldpc = alice_sifted[:ldpc.n]\n",
        "    bob_for_ldpc = bob_sifted[:ldpc.n]\n",
        "\n",
        "    # Error correction with LDPC\n",
        "    corrected_bits = ldpc.decode(bob_for_ldpc)\n",
        "\n",
        "    if corrected_bits is None:\n",
        "        print(\"LDPC decoding failed! Too many errors.\")\n",
        "        return None, None, 1.0\n",
        "\n",
        "    # Calculate error rates\n",
        "    initial_errors = np.sum(alice_for_ldpc != bob_for_ldpc)\n",
        "    final_errors = np.sum(alice_raw_bits != corrected_bits[:key_length])\n",
        "\n",
        "    initial_error_rate = initial_errors / ldpc.n\n",
        "    final_error_rate = final_errors / key_length\n",
        "\n",
        "    print(f\"Initial error rate: {initial_error_rate:.2%}\")\n",
        "    print(f\"Final error rate after LDPC: {final_error_rate:.2%}\")\n",
        "\n",
        "    if final_error_rate == 0:\n",
        "        print(\"Error correction successful! Secure key established.\")\n",
        "    else:\n",
        "        print(f\"Warning: {final_errors} residual errors remain\")\n",
        "\n",
        "    return alice_raw_bits, corrected_bits[:key_length], final_error_rate"
      ]
    },
    {
      "cell_type": "code",
      "execution_count": null,
      "metadata": {
        "colab": {
          "base_uri": "https://localhost:8080/"
        },
        "id": "f0P0rOpmrovq",
        "outputId": "bb2d311b-8514-49f2-e9df-a09e69cb1df4"
      },
      "outputs": [
        {
          "name": "stdout",
          "output_type": "stream",
          "text": [
            "\n",
            "=== BB84 with LDPC Correction ===\n",
            "Eve present: True\n",
            "Not enough sifted bits (109 < 200)\n"
          ]
        },
        {
          "data": {
            "text/plain": [
              "(None, None, 1.0)"
            ]
          },
          "execution_count": 60,
          "metadata": {},
          "output_type": "execute_result"
        }
      ],
      "source": [
        "bb84_with_ldpc(100,10,True)"
      ]
    },
    {
      "cell_type": "code",
      "execution_count": null,
      "metadata": {
        "colab": {
          "background_save": true
        },
        "id": "QsHCEyFcs0cO"
      },
      "outputs": [],
      "source": [
        "def bb84_with_ldpc_fixed(key_length=100, sample_size=10, eve_present=True):\n",
        "    print(\"\\n=== BB84 with LDPC Correction ===\")\n",
        "    print(f\"Eve present: {eve_present}\")\n",
        "\n",
        "    # Initialize LDPC code with adaptive size\n",
        "    ldpc_block_size = min(200, key_length * 2)  # Don't exceed double key length\n",
        "    ldpc = LDPC(n=ldpc_block_size, k=ldpc_block_size//2)\n",
        "\n",
        "    # Alice generates raw key (longer to account for sifting losses)\n",
        "    raw_key_multiplier = 4  # Generate extra bits knowing we'll lose ~50% in sifting\n",
        "    alice_raw_bits = generate_random_bits(ldpc.k * raw_key_multiplier)\n",
        "\n",
        "    # Encode with LDPC\n",
        "    try:\n",
        "        encoded_bits = ldpc.encode(alice_raw_bits[:ldpc.k])\n",
        "    except ValueError as e:\n",
        "        print(f\"Encoding error: {e}\")\n",
        "        return None, None, 1.0\n",
        "\n",
        "    # Standard BB84 protocol\n",
        "    alice_bases = generate_random_bits(len(encoded_bits))\n",
        "    qubits = encode_qubits(encoded_bits, alice_bases)\n",
        "\n",
        "    # Eve's interception\n",
        "    if eve_present:\n",
        "        eve_bases = generate_random_bits(len(qubits))\n",
        "        qubits = eve_intercept(qubits, eve_bases)\n",
        "\n",
        "    # Bob's measurement\n",
        "    bob_bases = generate_random_bits(len(qubits))\n",
        "    bob_bits = measure_qubits(qubits, bob_bases)\n",
        "\n",
        "    # Sift keys\n",
        "    alice_sifted = sift_key(alice_bases, bob_bases, encoded_bits)\n",
        "    bob_sifted = sift_key(alice_bases, bob_bases, bob_bits)\n",
        "\n",
        "    # Ensure we have enough bits\n",
        "    if len(alice_sifted) < ldpc.n or len(bob_sifted) < ldpc.n:\n",
        "        needed = ldpc.n - min(len(alice_sifted), len(bob_sifted))\n",
        "        print(f\"Warning: Need {needed} more bits for LDPC (have {len(alice_sifted)})\")\n",
        "        print(\"Increasing raw key size and retrying...\")\n",
        "        return bb84_with_ldpc_fixed(\n",
        "            key_length=key_length*2,  # Try with larger key\n",
        "            sample_size=sample_size,\n",
        "            eve_present=eve_present\n",
        "        )\n",
        "\n",
        "    # Take first n bits for LDPC decoding\n",
        "    alice_for_ldpc = alice_sifted[:ldpc.n]\n",
        "    bob_for_ldpc = bob_sifted[:ldpc.n]\n",
        "\n",
        "    # Error correction\n",
        "    corrected_bits = ldpc.decode(bob_for_ldpc)\n",
        "\n",
        "    if corrected_bits is None:\n",
        "        print(\"LDPC decoding failed! Too many errors.\")\n",
        "        return None, None, 1.0\n",
        "\n",
        "    # Verify correction\n",
        "    final_key = corrected_bits[:ldpc.k]\n",
        "    original_key = alice_raw_bits[:ldpc.k]\n",
        "\n",
        "    error_positions = np.where(np.array(original_key) != np.array(final_key))[0]\n",
        "    final_error_rate = len(error_positions)/ldpc.k\n",
        "\n",
        "    print(f\"Initial sifted length: {len(alice_sifted)}\")\n",
        "    print(f\"LDPC block size used: {ldpc.n}\")\n",
        "    print(f\"Final key length: {ldpc.k}\")\n",
        "    print(f\"Final error rate: {final_error_rate:.2%}\")\n",
        "\n",
        "    if final_error_rate == 0:\n",
        "        print(\"Success! Secure key established.\")\n",
        "        return original_key, final_key, final_error_rate\n",
        "    else:\n",
        "        print(f\"{len(error_positions)} uncorrected errors remain\")\n",
        "        return original_key, final_key, final_error_rate"
      ]
    },
    {
      "cell_type": "code",
      "execution_count": null,
      "metadata": {
        "id": "FByYOFWMtVp-"
      },
      "outputs": [],
      "source": [
        "bb84_with_ldpc_fixed(100,10,False)"
      ]
    }
  ],
  "metadata": {
    "colab": {
      "provenance": []
    },
    "kernelspec": {
      "display_name": "Python 3",
      "name": "python3"
    },
    "language_info": {
      "name": "python"
    }
  },
  "nbformat": 4,
  "nbformat_minor": 0
}